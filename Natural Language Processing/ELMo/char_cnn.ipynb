{
  "nbformat": 4,
  "nbformat_minor": 0,
  "metadata": {
    "colab": {
      "provenance": [],
      "authorship_tag": "ABX9TyMpeFn+h3cVx7Sm4BlKoscT",
      "include_colab_link": true
    },
    "kernelspec": {
      "name": "python3",
      "display_name": "Python 3"
    },
    "language_info": {
      "name": "python"
    },
    "accelerator": "GPU",
    "gpuClass": "standard"
  },
  "cells": [
    {
      "cell_type": "markdown",
      "metadata": {
        "id": "view-in-github",
        "colab_type": "text"
      },
      "source": [
        "<a href=\"https://colab.research.google.com/github/gauss5930/Natural-Language-Processing/blob/main/ELMo/char_cnn.ipynb\" target=\"_parent\"><img src=\"https://colab.research.google.com/assets/colab-badge.svg\" alt=\"Open In Colab\"/></a>"
      ]
    },
    {
      "cell_type": "code",
      "execution_count": null,
      "metadata": {
        "id": "E414FoesNyVv"
      },
      "outputs": [],
      "source": [
        "#char_cnn\n",
        "import torch\n",
        "import torch.nn as nn\n",
        "from typing import List\n",
        "\n",
        "class CharEmbedding(nn.Module):\n",
        "  def __init__(self, vocab_size, emb_dim, prj_dim, kernel_sizes, char_len, device):\n",
        "    super().__init__()\n",
        "    self.device = device\n",
        "    self.kernel_dim = sum([kernel_size for num_features, kernel_size in kernel_sizes])   #embedding dimenstion과 같음\n",
        "    self.charcnn = CharCNN(vocab_size, emb_dim, self.kernel_dim, kernel_sizes, char_len, device)\n",
        "    self.highway_net = HighWayNetwork(self.kernel_dim)\n",
        "    self.highwat_net._init_bias()\n",
        "    self.projection_layer = nn.Linear(self.kernel_dim, prj_dim)\n",
        "\n",
        "  def forward(self, x):\n",
        "    #파라미터: 문장의 캐릭터로 이루어져 있는 문장 벡터\n",
        "    #차원: [Batch, Seq_len, Char_len]\n",
        "    batch_size, seq_len, _ = x.size()\n",
        "    y = torch.zeros(batch_size, seq_len, self.kernel_dim).to(self.device)\n",
        "\n",
        "    for i in range(seq_len):\n",
        "      char_emb = self.charcnn(x[:, i, :])\n",
        "      highway_emb = self.highway_net(char_emb)\n",
        "      y[:, i, :] = highway_emb.squeeze(1)\n",
        "\n",
        "    emb = self.projection_layer(y)\n",
        "    return emb\n",
        "\n",
        "class CharCNN(nn.Module):\n",
        "  def __init__(self, vocab_size, char_emb_dim, word_emb_dim, kernel_sizes, char_len, device):\n",
        "    super(CharCNN, self).__init__()\n",
        "    self.device = device\n",
        "    self.char_len = char_len\n",
        "    self.word_emb_dim = word_emb_dim\n",
        "    self.kernel_sizes = kernel_sizes\n",
        "\n",
        "    self.embedding = nn.Embedding(vocab_size, char_meb_dim)\n",
        "    self.kernels = nn.ModuleList([nn.Conv1d(in_channels = char_emb_dim, out_channels = num_features,\n",
        "                                            kernel_size = kernel_size) for kernel_size, num_features in kernel_sizes])\n",
        "\n",
        "  def forward(self, word):\n",
        "    #파라미터: word(입력 텐서)\n",
        "    #차원\n",
        "    #입력: 단어([Batch, Emb_dim, Seq_len])\n",
        "    #출력: y([Batch, Kernel_dim])\n",
        "    batch_size = word.size(0)\n",
        "    y = torch.zeros(batch_size, self.word_meb_dim).to(self.device)\n",
        "\n",
        "    cnt = 0   #indec for y\n",
        "\n",
        "    #torch.cat보다 비어있는 텐서를 채우는 것이 더 빠름\n",
        "    for kernel in self.kernels:\n",
        "      emb = self.embedding(word)\n",
        "      emb = emb.permute(0, 2, 1)\n",
        "      temp = kernel(emb)\n",
        "      pooled = torch.max(temp, dim = 2)[0]\n",
        "      y[:, cnt] = pooled\n",
        "      cnt += pooled_size(1)\n",
        "\n",
        "    return y\n",
        "\n",
        "class HighwayNetwork(nn.Module):\n",
        "  def __init__(self, kernel_sizes):\n",
        "    super(HighwayNetwork, self).__init__()\n",
        "    self.h_gate = nn.Linear(kernel_sizes, kernel_sizes)\n",
        "    self.t_gate = nn.Sequential(nn.Linear(kernel_sizes, kernel_sizes), nn.Sigmoid())\n",
        "    self.relu = torch.nn.ReLU()\n",
        "\n",
        "  def forward(self, x):\n",
        "    #차원: x(Batch, Kernel_dim)\n",
        "    x = x.unsqueeze(1)\n",
        "    h = self.relu(self.h_gate(x))\n",
        "    t = self.t_gate(x)\n",
        "    c = 1 - t\n",
        "    return t * h + c * x\n",
        "\n",
        "  def _init_bias(self):\n",
        "    self.t_gate[0].bias.data.fill_(-2)"
      ]
    }
  ]
}
